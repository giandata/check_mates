{
 "cells": [
  {
   "cell_type": "markdown",
   "metadata": {},
   "source": [
    "# White vs Black Mates"
   ]
  },
  {
   "cell_type": "code",
   "execution_count": 817,
   "metadata": {},
   "outputs": [],
   "source": [
    "import pandas as pd\n",
    "import numpy as np\n",
    "import os"
   ]
  },
  {
   "cell_type": "code",
   "execution_count": 818,
   "metadata": {},
   "outputs": [],
   "source": [
    "# Making a df of only games ended by check mate\n",
    "df = pd.read_csv (r'games.csv')\n",
    "mate_df = df[df[\"victory_status\"] == \"mate\"]"
   ]
  },
  {
   "cell_type": "code",
   "execution_count": 819,
   "metadata": {},
   "outputs": [],
   "source": [
    "black_win = mate_df[mate_df[\"winner\"]==\"black\"]\n",
    "white_win = mate_df[mate_df[\"winner\"]==\"white\"]"
   ]
  },
  {
   "cell_type": "code",
   "execution_count": 820,
   "metadata": {},
   "outputs": [],
   "source": [
    "#interested only in moves\n",
    "white_games = pd.DataFrame(white_win,columns=[\"moves\"])\n",
    "black_games = pd.DataFrame(black_win,columns=[\"moves\"])"
   ]
  },
  {
   "cell_type": "code",
   "execution_count": 821,
   "metadata": {},
   "outputs": [],
   "source": [
    "#unpacking moves into columns\n",
    "white_games = white_games[\"moves\"].str.split(' ', expand=True)\n",
    "black_games = black_games[\"moves\"].str.split(' ', expand=True)"
   ]
  },
  {
   "cell_type": "code",
   "execution_count": 823,
   "metadata": {},
   "outputs": [
    {
     "data": {
      "text/html": [
       "<div>\n",
       "<style scoped>\n",
       "    .dataframe tbody tr th:only-of-type {\n",
       "        vertical-align: middle;\n",
       "    }\n",
       "\n",
       "    .dataframe tbody tr th {\n",
       "        vertical-align: top;\n",
       "    }\n",
       "\n",
       "    .dataframe thead th {\n",
       "        text-align: right;\n",
       "    }\n",
       "</style>\n",
       "<table border=\"1\" class=\"dataframe\">\n",
       "  <thead>\n",
       "    <tr style=\"text-align: right;\">\n",
       "      <th></th>\n",
       "      <th>1</th>\n",
       "      <th>3</th>\n",
       "      <th>5</th>\n",
       "      <th>7</th>\n",
       "      <th>9</th>\n",
       "      <th>11</th>\n",
       "      <th>13</th>\n",
       "      <th>15</th>\n",
       "      <th>17</th>\n",
       "      <th>19</th>\n",
       "      <th>...</th>\n",
       "      <th>173</th>\n",
       "      <th>175</th>\n",
       "      <th>177</th>\n",
       "      <th>179</th>\n",
       "      <th>181</th>\n",
       "      <th>183</th>\n",
       "      <th>185</th>\n",
       "      <th>187</th>\n",
       "      <th>189</th>\n",
       "      <th>191</th>\n",
       "    </tr>\n",
       "  </thead>\n",
       "  <tbody>\n",
       "    <tr>\n",
       "      <td>14387</td>\n",
       "      <td>e6</td>\n",
       "      <td>d5</td>\n",
       "      <td>c5</td>\n",
       "      <td>cxd4</td>\n",
       "      <td>Qxd5</td>\n",
       "      <td>Qd6</td>\n",
       "      <td>Nc6</td>\n",
       "      <td>Qd8</td>\n",
       "      <td>Nf6</td>\n",
       "      <td>Kxf7</td>\n",
       "      <td>...</td>\n",
       "      <td>None</td>\n",
       "      <td>None</td>\n",
       "      <td>None</td>\n",
       "      <td>None</td>\n",
       "      <td>None</td>\n",
       "      <td>None</td>\n",
       "      <td>None</td>\n",
       "      <td>None</td>\n",
       "      <td>None</td>\n",
       "      <td>None</td>\n",
       "    </tr>\n",
       "    <tr>\n",
       "      <td>553</td>\n",
       "      <td>e6</td>\n",
       "      <td>Qf6</td>\n",
       "      <td>b6</td>\n",
       "      <td>Qg6</td>\n",
       "      <td>Bb7</td>\n",
       "      <td>h6</td>\n",
       "      <td>Qxg2</td>\n",
       "      <td>f5</td>\n",
       "      <td>Qxg1</td>\n",
       "      <td>Na6</td>\n",
       "      <td>...</td>\n",
       "      <td>None</td>\n",
       "      <td>None</td>\n",
       "      <td>None</td>\n",
       "      <td>None</td>\n",
       "      <td>None</td>\n",
       "      <td>None</td>\n",
       "      <td>None</td>\n",
       "      <td>None</td>\n",
       "      <td>None</td>\n",
       "      <td>None</td>\n",
       "    </tr>\n",
       "    <tr>\n",
       "      <td>14089</td>\n",
       "      <td>c6</td>\n",
       "      <td>d5</td>\n",
       "      <td>Nd7</td>\n",
       "      <td>Nh6</td>\n",
       "      <td>Bxd7</td>\n",
       "      <td>gxh6</td>\n",
       "      <td>Bf5</td>\n",
       "      <td>e6</td>\n",
       "      <td>cxd5</td>\n",
       "      <td>Be4</td>\n",
       "      <td>...</td>\n",
       "      <td>None</td>\n",
       "      <td>None</td>\n",
       "      <td>None</td>\n",
       "      <td>None</td>\n",
       "      <td>None</td>\n",
       "      <td>None</td>\n",
       "      <td>None</td>\n",
       "      <td>None</td>\n",
       "      <td>None</td>\n",
       "      <td>None</td>\n",
       "    </tr>\n",
       "  </tbody>\n",
       "</table>\n",
       "<p>3 rows × 96 columns</p>\n",
       "</div>"
      ],
      "text/plain": [
       "      1    3    5     7     9     11    13   15    17    19   ...   173   175  \\\n",
       "14387  e6   d5   c5  cxd4  Qxd5   Qd6   Nc6  Qd8   Nf6  Kxf7  ...  None  None   \n",
       "553    e6  Qf6   b6   Qg6   Bb7    h6  Qxg2   f5  Qxg1   Na6  ...  None  None   \n",
       "14089  c6   d5  Nd7   Nh6  Bxd7  gxh6   Bf5   e6  cxd5   Be4  ...  None  None   \n",
       "\n",
       "        177   179   181   183   185   187   189   191  \n",
       "14387  None  None  None  None  None  None  None  None  \n",
       "553    None  None  None  None  None  None  None  None  \n",
       "14089  None  None  None  None  None  None  None  None  \n",
       "\n",
       "[3 rows x 96 columns]"
      ]
     },
     "execution_count": 823,
     "metadata": {},
     "output_type": "execute_result"
    }
   ],
   "source": [
    "# black moves in game won by white\n",
    "white_games_black_moves =  white_games.iloc[0:,1::2] \n",
    "white_games_black_moves.sample(3)"
   ]
  },
  {
   "cell_type": "code",
   "execution_count": 824,
   "metadata": {},
   "outputs": [
    {
     "data": {
      "text/html": [
       "<div>\n",
       "<style scoped>\n",
       "    .dataframe tbody tr th:only-of-type {\n",
       "        vertical-align: middle;\n",
       "    }\n",
       "\n",
       "    .dataframe tbody tr th {\n",
       "        vertical-align: top;\n",
       "    }\n",
       "\n",
       "    .dataframe thead th {\n",
       "        text-align: right;\n",
       "    }\n",
       "</style>\n",
       "<table border=\"1\" class=\"dataframe\">\n",
       "  <thead>\n",
       "    <tr style=\"text-align: right;\">\n",
       "      <th></th>\n",
       "      <th>0</th>\n",
       "      <th>2</th>\n",
       "      <th>4</th>\n",
       "      <th>6</th>\n",
       "      <th>8</th>\n",
       "      <th>10</th>\n",
       "      <th>12</th>\n",
       "      <th>14</th>\n",
       "      <th>16</th>\n",
       "      <th>18</th>\n",
       "      <th>...</th>\n",
       "      <th>202</th>\n",
       "      <th>204</th>\n",
       "      <th>206</th>\n",
       "      <th>208</th>\n",
       "      <th>210</th>\n",
       "      <th>212</th>\n",
       "      <th>214</th>\n",
       "      <th>216</th>\n",
       "      <th>218</th>\n",
       "      <th>220</th>\n",
       "    </tr>\n",
       "  </thead>\n",
       "  <tbody>\n",
       "    <tr>\n",
       "      <td>14230</td>\n",
       "      <td>g3</td>\n",
       "      <td>Bg2</td>\n",
       "      <td>d3</td>\n",
       "      <td>Bg5</td>\n",
       "      <td>Bxf6</td>\n",
       "      <td>e4</td>\n",
       "      <td>dxe4</td>\n",
       "      <td>Kxd1</td>\n",
       "      <td>f3</td>\n",
       "      <td>f4</td>\n",
       "      <td>...</td>\n",
       "      <td>None</td>\n",
       "      <td>None</td>\n",
       "      <td>None</td>\n",
       "      <td>None</td>\n",
       "      <td>None</td>\n",
       "      <td>None</td>\n",
       "      <td>None</td>\n",
       "      <td>None</td>\n",
       "      <td>None</td>\n",
       "      <td>None</td>\n",
       "    </tr>\n",
       "    <tr>\n",
       "      <td>7075</td>\n",
       "      <td>Nc3</td>\n",
       "      <td>d4</td>\n",
       "      <td>Nf3</td>\n",
       "      <td>Bg5</td>\n",
       "      <td>Bxf6</td>\n",
       "      <td>e4</td>\n",
       "      <td>Bd3</td>\n",
       "      <td>bxc3</td>\n",
       "      <td>exf5</td>\n",
       "      <td>Qe2+</td>\n",
       "      <td>...</td>\n",
       "      <td>None</td>\n",
       "      <td>None</td>\n",
       "      <td>None</td>\n",
       "      <td>None</td>\n",
       "      <td>None</td>\n",
       "      <td>None</td>\n",
       "      <td>None</td>\n",
       "      <td>None</td>\n",
       "      <td>None</td>\n",
       "      <td>None</td>\n",
       "    </tr>\n",
       "    <tr>\n",
       "      <td>11150</td>\n",
       "      <td>e4</td>\n",
       "      <td>Nc3</td>\n",
       "      <td>d3</td>\n",
       "      <td>Nf3</td>\n",
       "      <td>None</td>\n",
       "      <td>None</td>\n",
       "      <td>None</td>\n",
       "      <td>None</td>\n",
       "      <td>None</td>\n",
       "      <td>None</td>\n",
       "      <td>...</td>\n",
       "      <td>None</td>\n",
       "      <td>None</td>\n",
       "      <td>None</td>\n",
       "      <td>None</td>\n",
       "      <td>None</td>\n",
       "      <td>None</td>\n",
       "      <td>None</td>\n",
       "      <td>None</td>\n",
       "      <td>None</td>\n",
       "      <td>None</td>\n",
       "    </tr>\n",
       "  </tbody>\n",
       "</table>\n",
       "<p>3 rows × 111 columns</p>\n",
       "</div>"
      ],
      "text/plain": [
       "       0    2    4    6     8     10    12    14    16    18   ...   202  \\\n",
       "14230   g3  Bg2   d3  Bg5  Bxf6    e4  dxe4  Kxd1    f3    f4  ...  None   \n",
       "7075   Nc3   d4  Nf3  Bg5  Bxf6    e4   Bd3  bxc3  exf5  Qe2+  ...  None   \n",
       "11150   e4  Nc3   d3  Nf3  None  None  None  None  None  None  ...  None   \n",
       "\n",
       "        204   206   208   210   212   214   216   218   220  \n",
       "14230  None  None  None  None  None  None  None  None  None  \n",
       "7075   None  None  None  None  None  None  None  None  None  \n",
       "11150  None  None  None  None  None  None  None  None  None  \n",
       "\n",
       "[3 rows x 111 columns]"
      ]
     },
     "execution_count": 824,
     "metadata": {},
     "output_type": "execute_result"
    }
   ],
   "source": [
    "# white moves in games won by black\n",
    "black_games_white_moves =  black_games.iloc[0:,::2] # mosse del bianco in partite vinte da nero\n",
    "black_games_white_moves.sample(3)"
   ]
  },
  {
   "cell_type": "code",
   "execution_count": 825,
   "metadata": {},
   "outputs": [],
   "source": [
    "#putting back together in a single columns all moves of game\n",
    "cols = list(white_games_black_moves.columns)\n",
    "white_games_black_moves[\"moves\"] = white_games_black_moves[cols].apply(lambda row: ' '.join(row.values.astype(str)), axis=1)\n",
    "white_games_black_moves = white_games_black_moves[[\"moves\"]]\n",
    "\n",
    "cols = list(black_games_white_moves.columns)\n",
    "black_games_white_moves[\"moves\"] = black_games_white_moves[cols].apply(lambda row: ' '.join(row.values.astype(str)), axis=1)\n",
    "black_games_white_moves = black_games_white_moves[[\"moves\"]]"
   ]
  },
  {
   "cell_type": "code",
   "execution_count": 816,
   "metadata": {},
   "outputs": [],
   "source": [
    "#export\n",
    "black_games_white_moves.to_excel(\"black_games_white_moves_joined.xlsx\",header=True)\n",
    "white_games_black_moves.to_excel(\"white_games_black_moves_joined.xlsx\",header=True)"
   ]
  },
  {
   "cell_type": "markdown",
   "metadata": {},
   "source": [
    "# Fx approach"
   ]
  },
  {
   "cell_type": "code",
   "execution_count": 412,
   "metadata": {
    "scrolled": false
   },
   "outputs": [],
   "source": [
    "#transkorming array into strings\n",
    "list_white_games = white_games.values.tolist()[0:5] #array di array\n",
    "list_black_games = black_games.values.tolist()[0:5] #array di array\n",
    "\n",
    "def flatten(t):\n",
    "    return [item for sublist in t for item in sublist]\n",
    "\n",
    "list_white_games = flatten(list_white_games)   #array di stringhe\n",
    "list_black_games = flatten(list_black_games)"
   ]
  },
  {
   "cell_type": "code",
   "execution_count": 767,
   "metadata": {
    "scrolled": false
   },
   "outputs": [],
   "source": [
    "splitted_white_games = list(map(lambda game:game.split() ,list_white_games)) #array di array di stringhe\n",
    "splitted_black_games = list(map(lambda game:game.split() ,list_black_games)) #array di array di stringhe"
   ]
  },
  {
   "cell_type": "code",
   "execution_count": 573,
   "metadata": {},
   "outputs": [],
   "source": [
    "#takes a game and return kings move\n",
    "def extract_Ks_from_game(game):\n",
    "    return list(filter(lambda move:move.startswith(\"K\"),game))\n",
    "\n",
    "#gets the last move from the kings move\n",
    "def get_last_move(moves):\n",
    "    return moves[-1]"
   ]
  },
  {
   "cell_type": "code",
   "execution_count": 581,
   "metadata": {},
   "outputs": [],
   "source": [
    "for x in range(len(black_moves)):\n",
    "    k_moves=[]\n",
    "    k_moves.append(extract_Ks_from_game(black_moves[x]))"
   ]
  },
  {
   "cell_type": "code",
   "execution_count": 768,
   "metadata": {},
   "outputs": [],
   "source": [
    "white_moves = [i[::2] for i in splitted_black_games]   #get moves of white in black winning games\n",
    "black_moves = [i[1::2] for i in splitted_white_games]  #get moves of black in white winning games"
   ]
  }
 ],
 "metadata": {
  "kernelspec": {
   "display_name": "Python 3",
   "language": "python",
   "name": "python3"
  },
  "language_info": {
   "codemirror_mode": {
    "name": "ipython",
    "version": 3
   },
   "file_extension": ".py",
   "mimetype": "text/x-python",
   "name": "python",
   "nbconvert_exporter": "python",
   "pygments_lexer": "ipython3",
   "version": "3.7.4"
  }
 },
 "nbformat": 4,
 "nbformat_minor": 2
}
